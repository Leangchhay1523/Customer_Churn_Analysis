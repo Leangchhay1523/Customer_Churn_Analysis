{
 "cells": [
  {
   "cell_type": "markdown",
   "metadata": {},
   "source": [
    "# Main Notebook\n",
    "This notebook will run all the 11 analysis features.\n",
    "## Import Features Analysis"
   ]
  },
  {
   "cell_type": "code",
   "execution_count": 2,
   "metadata": {},
   "outputs": [],
   "source": [
    "# Import All Features Analysis\n",
    "from features_analysis.base_analysis import BaseAnalysis\n",
    "from features_analysis.age_analysis import AgeAnalysis\n",
    "from features_analysis.churn_analysis import ChurnAnalysis\n",
    "from features_analysis.correlation_analysis import CorrelationAnalysis\n",
    "from features_analysis.gender_analysis import GenderAnalysis\n",
    "from features_analysis.last_interaction_analysis import LastInteractionAnalysis\n",
    "from features_analysis.payment_delay_analysis import PaymentDelayAnalysis\n",
    "from features_analysis.subscription_analysis import SubscriptionAnalysis\n",
    "from features_analysis.contract_analysis import ContractAnalysis\n",
    "from features_analysis.support_call_analysis import SupportCallAnalysis\n",
    "from features_analysis.tenure_analysis import TenureAnalysis\n",
    "from features_analysis.total_spend_analysis import TotalSpendAnalysis\n",
    "from features_analysis.usage_frequency_analysis import UsageFrequencyAnalysis"
   ]
  },
  {
   "cell_type": "markdown",
   "metadata": {},
   "source": [
    "## Import Libraries"
   ]
  },
  {
   "cell_type": "code",
   "execution_count": 14,
   "metadata": {},
   "outputs": [],
   "source": [
    "import pandas as pd\n",
    "import seaborn as sns\n",
    "import matplotlib.pyplot as plt\n",
    "import numpy as np"
   ]
  },
  {
   "cell_type": "markdown",
   "metadata": {},
   "source": [
    "## Analyzing\n",
    "### Age and Churn Analysis\n",
    "**Analyst Goal:** What is the distribution of ages among your customers? Is there a relationship between age and churn rate?"
   ]
  },
  {
   "cell_type": "code",
   "execution_count": null,
   "metadata": {},
   "outputs": [
    {
     "ename": "NameError",
     "evalue": "name 'AgeAnalysis' is not defined",
     "output_type": "error",
     "traceback": [
      "\u001b[0;31m---------------------------------------------------------------------------\u001b[0m",
      "\u001b[0;31mNameError\u001b[0m                                 Traceback (most recent call last)",
      "Cell \u001b[0;32mIn[1], line 2\u001b[0m\n\u001b[1;32m      1\u001b[0m file_path \u001b[38;5;241m=\u001b[39m \u001b[38;5;124m\"\u001b[39m\u001b[38;5;124m../Customer_Churn_Analysis/data/data_500_rec.csv\u001b[39m\u001b[38;5;124m\"\u001b[39m\n\u001b[0;32m----> 2\u001b[0m age_analysis \u001b[38;5;241m=\u001b[39m \u001b[43mAgeAnalysis\u001b[49m(file_path)\n\u001b[1;32m      4\u001b[0m age_analysis\u001b[38;5;241m.\u001b[39mperform_analysis()\n",
      "\u001b[0;31mNameError\u001b[0m: name 'AgeAnalysis' is not defined"
     ]
    }
   ],
   "source": []
  },
  {
   "cell_type": "markdown",
   "metadata": {},
   "source": [
    "### Gender and Churn Analysis\n",
    "**Analyst Goal:** What is the gender distribution of your customers? Is there any noticeable difference in churn rates between genders?"
   ]
  },
  {
   "cell_type": "code",
   "execution_count": null,
   "metadata": {},
   "outputs": [],
   "source": []
  },
  {
   "cell_type": "markdown",
   "metadata": {},
   "source": [
    "### Tenure and Churn Analysis\n",
    "**Analyst Goal:** How long, on average, have your customers been with your service (tenure)? Is there any pattern between tenure and churn?"
   ]
  },
  {
   "cell_type": "code",
   "execution_count": null,
   "metadata": {},
   "outputs": [],
   "source": []
  },
  {
   "cell_type": "markdown",
   "metadata": {},
   "source": [
    "### Usage Frequency Analysis\n",
    "**Analyst Goal:** How frequently do customers use your service, on average? Does usage frequency affect churn rates?"
   ]
  },
  {
   "cell_type": "code",
   "execution_count": null,
   "metadata": {},
   "outputs": [],
   "source": []
  },
  {
   "cell_type": "markdown",
   "metadata": {},
   "source": [
    "### Support Calls and Churn Analysis\n",
    "**Analyst Goal:** What is the average number of support calls made by customers? Is there any correlation between support calls and churn?"
   ]
  },
  {
   "cell_type": "code",
   "execution_count": null,
   "metadata": {},
   "outputs": [],
   "source": []
  },
  {
   "cell_type": "markdown",
   "metadata": {},
   "source": [
    "### Payment Delay and Churn Analysis \n",
    "**Analyst Goal:** What is the typical payment delay among customers? Does payment delay influence churn behavior?"
   ]
  },
  {
   "cell_type": "code",
   "execution_count": null,
   "metadata": {},
   "outputs": [],
   "source": []
  },
  {
   "cell_type": "markdown",
   "metadata": {},
   "source": [
    "### Subscription and Churn Analysis\n",
    "**Analyst Goal:** What are the different subscription types and their proportions? Do customers with different subscription types have different churn rates?"
   ]
  },
  {
   "cell_type": "code",
   "execution_count": null,
   "metadata": {},
   "outputs": [],
   "source": []
  },
  {
   "cell_type": "markdown",
   "metadata": {},
   "source": [
    "### Contract Length and Churn Analysis\n",
    "**Analyst Goal:** How does contract length relate to churn?"
   ]
  },
  {
   "cell_type": "code",
   "execution_count": null,
   "metadata": {},
   "outputs": [],
   "source": []
  },
  {
   "cell_type": "markdown",
   "metadata": {},
   "source": [
    "### Total Spend and Churn Analysis\n",
    "**Analyst Goal:** What is the average total spend of customers? Is there any correlation between total spend and churn?"
   ]
  },
  {
   "cell_type": "code",
   "execution_count": null,
   "metadata": {},
   "outputs": [],
   "source": []
  },
  {
   "cell_type": "markdown",
   "metadata": {},
   "source": [
    "### Last Interaction and Churn Analysis\n",
    "**Analyst Goal:** How recently did customers interact with your service? Is there any connection between the recency of the last interaction and churn?"
   ]
  },
  {
   "cell_type": "code",
   "execution_count": null,
   "metadata": {},
   "outputs": [],
   "source": []
  },
  {
   "cell_type": "markdown",
   "metadata": {},
   "source": [
    "### Churn Analysis\n",
    "**Analyst Goal:** What is the overall churn rate in your dataset? Are there specific patterns or trends that stand out in the churned customers?"
   ]
  },
  {
   "cell_type": "code",
   "execution_count": null,
   "metadata": {},
   "outputs": [],
   "source": []
  },
  {
   "cell_type": "markdown",
   "metadata": {},
   "source": [
    "### Correlation\n",
    "**Analyst Goal:** Are there any notable correlations between different features and churn? Could multicollinearity between features affect your analysis?"
   ]
  }
 ],
 "metadata": {
  "kernelspec": {
   "display_name": "Python 3",
   "language": "python",
   "name": "python3"
  },
  "language_info": {
   "codemirror_mode": {
    "name": "ipython",
    "version": 3
   },
   "file_extension": ".py",
   "mimetype": "text/x-python",
   "name": "python",
   "nbconvert_exporter": "python",
   "pygments_lexer": "ipython3",
   "version": "3.12.4"
  }
 },
 "nbformat": 4,
 "nbformat_minor": 2
}
