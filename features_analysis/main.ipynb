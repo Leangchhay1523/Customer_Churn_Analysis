{
 "cells": [
  {
   "cell_type": "markdown",
   "metadata": {},
   "source": [
    "# Main Notebook\n",
    "This notebook will run all the 11 analysis features.\n",
    "## Import Features Analysis"
   ]
  },
  {
   "cell_type": "code",
   "execution_count": null,
   "metadata": {},
   "outputs": [],
   "source": [
    "# Import All Features Analysis\n",
    "from base_analysis import BaseAnalysis\n",
    "from age_analysis import AgeAnalysis\n",
    "from churn_analysis import ChurnAnalysis\n",
    "from correlation_analysis import CorrelationAnalysis\n",
    "from gender_analysis import GenderAnalysis\n",
    "from last_interaction_analysis import LastInteractionAnalysis\n",
    "from payment_delay_analysis import PaymentDelayAnalysis\n",
    "from subscription_analysis import SubscriptionAnalysis\n",
    "from contract_analysis import ContractAnalysis\n",
    "from support_call_analysis import SupportCallAnalysis\n",
    "from tenure_analysis import TenureAnalysis\n",
    "from total_spend_analysis import TotalSpendAnalysis\n",
    "from usage_frequency_analysis import UsageFrequencyAnalysis\n",
    "from initial_analysis import InitialAnalysis"
   ]
  },
  {
   "cell_type": "markdown",
   "metadata": {},
   "source": [
    "## Import Libraries"
   ]
  },
  {
   "cell_type": "code",
   "execution_count": 6,
   "metadata": {},
   "outputs": [],
   "source": [
    "import pandas as pd\n",
    "import seaborn as sns\n",
    "import matplotlib.pyplot as plt\n",
    "import numpy as np"
   ]
  },
  {
   "cell_type": "markdown",
   "metadata": {},
   "source": [
    "## Analyzing"
   ]
  },
  {
   "cell_type": "code",
   "execution_count": 7,
   "metadata": {},
   "outputs": [],
   "source": [
    "# Data Path\n",
    "data_path_500 = \"../data/data_500_rec.csv\""
   ]
  },
  {
   "cell_type": "markdown",
   "metadata": {},
   "source": [
    "### Initial Analysis"
   ]
  },
  {
   "cell_type": "code",
   "execution_count": 8,
   "metadata": {},
   "outputs": [
    {
     "ename": "NameError",
     "evalue": "name 'InitialAnalysis' is not defined",
     "output_type": "error",
     "traceback": [
      "\u001b[0;31m---------------------------------------------------------------------------\u001b[0m",
      "\u001b[0;31mNameError\u001b[0m                                 Traceback (most recent call last)",
      "Cell \u001b[0;32mIn[8], line 1\u001b[0m\n\u001b[0;32m----> 1\u001b[0m initial_analysis_obj \u001b[38;5;241m=\u001b[39m \u001b[43mInitialAnalysis\u001b[49m(data_path_500)\n\u001b[1;32m      2\u001b[0m initial_analysis_obj\u001b[38;5;241m.\u001b[39mperform_analysis()\n",
      "\u001b[0;31mNameError\u001b[0m: name 'InitialAnalysis' is not defined"
     ]
    }
   ],
   "source": [
    "initial_analysis_obj = InitialAnalysis(data_path_500)\n",
    "initial_analysis_obj.perform_analysis()"
   ]
  },
  {
   "cell_type": "markdown",
   "metadata": {},
   "source": [
    "\n",
    "### Age and Churn Analysis\n",
    "**Analyst Goal:** What is the distribution of ages among your customers? Is there a relationship between age and churn rate?"
   ]
  },
  {
   "cell_type": "code",
   "execution_count": null,
   "metadata": {},
   "outputs": [],
   "source": [
    "age_analysis_obj = AgeAnalysis(data_path_500)\n",
    "age_analysis_obj.perform_analysis()"
   ]
  },
  {
   "cell_type": "markdown",
   "metadata": {},
   "source": [
    "### Gender and Churn Analysis\n",
    "**Analyst Goal:** What is the gender distribution of your customers? Is there any noticeable difference in churn rates between genders?"
   ]
  },
  {
   "cell_type": "code",
   "execution_count": null,
   "metadata": {},
   "outputs": [],
   "source": [
    "gender_analsis_obj = GenderAnalysis(data_path_500)\n",
    "gender_analsis_obj.perform_analysis()"
   ]
  },
  {
   "cell_type": "markdown",
   "metadata": {},
   "source": [
    "### Tenure and Churn Analysis\n",
    "**Analyst Goal:** How long, on average, have your customers been with your service (tenure)? Is there any pattern between tenure and churn?"
   ]
  },
  {
   "cell_type": "code",
   "execution_count": null,
   "metadata": {},
   "outputs": [],
   "source": [
    "tenure_analysis_obj = TenureAnalysis(data_path_500)\n",
    "tenure_analysis_obj.perform_analysis()"
   ]
  },
  {
   "cell_type": "markdown",
   "metadata": {},
   "source": [
    "### Usage Frequency Analysis\n",
    "**Analyst Goal:** How frequently do customers use your service, on average? Does usage frequency affect churn rates?"
   ]
  },
  {
   "cell_type": "code",
   "execution_count": null,
   "metadata": {},
   "outputs": [],
   "source": [
    "usage_analysis_obj = UsageFrequencyAnalysis(data_path_500)\n",
    "usage_analysis_obj.perform_analysis()"
   ]
  },
  {
   "cell_type": "markdown",
   "metadata": {},
   "source": [
    "### Support Calls and Churn Analysis\n",
    "**Analyst Goal:** What is the average number of support calls made by customers? Is there any correlation between support calls and churn?"
   ]
  },
  {
   "cell_type": "code",
   "execution_count": null,
   "metadata": {},
   "outputs": [],
   "source": [
    "support_call_analysis_obj = SupportCallAnalysis(data_path_500)\n",
    "support_call_analysis_obj.perform_analysis()"
   ]
  },
  {
   "cell_type": "markdown",
   "metadata": {},
   "source": [
    "### Payment Delay and Churn Analysis \n",
    "**Analyst Goal:** What is the typical payment delay among customers? Does payment delay influence churn behavior?"
   ]
  },
  {
   "cell_type": "code",
   "execution_count": null,
   "metadata": {},
   "outputs": [],
   "source": [
    "payment_delay_analysis_obj = PaymentDelayAnalysis(data_path_500)\n",
    "payment_delay_analysis_obj.perform_analysis()"
   ]
  },
  {
   "cell_type": "markdown",
   "metadata": {},
   "source": [
    "### Subscription and Churn Analysis\n",
    "**Analyst Goal:** What are the different subscription types and their proportions? Do customers with different subscription types have different churn rates?"
   ]
  },
  {
   "cell_type": "code",
   "execution_count": null,
   "metadata": {},
   "outputs": [],
   "source": [
    "subscription_analysis_obj = SubscriptionAnalysis(data_path_500)\n",
    "subscription_analysis_obj.perform_analysis()"
   ]
  },
  {
   "cell_type": "markdown",
   "metadata": {},
   "source": [
    "### Contract Length and Churn Analysis\n",
    "**Analyst Goal:** How does contract length relate to churn?"
   ]
  },
  {
   "cell_type": "code",
   "execution_count": null,
   "metadata": {},
   "outputs": [],
   "source": [
    "contract_analysis_obj = ContractAnalysis(data_path_500)\n",
    "contract_analysis_obj.perform_analysis()"
   ]
  },
  {
   "cell_type": "markdown",
   "metadata": {},
   "source": [
    "### Total Spend and Churn Analysis\n",
    "**Analyst Goal:** What is the average total spend of customers? Is there any correlation between total spend and churn?"
   ]
  },
  {
   "cell_type": "code",
   "execution_count": null,
   "metadata": {},
   "outputs": [],
   "source": [
    "total_spend_analysis_obj = TotalSpendAnalysis(data_path_500)\n",
    "total_spend_analysis_obj.perform_analysis()"
   ]
  },
  {
   "cell_type": "markdown",
   "metadata": {},
   "source": [
    "### Last Interaction and Churn Analysis\n",
    "**Analyst Goal:** How recently did customers interact with your service? Is there any connection between the recency of the last interaction and churn?"
   ]
  },
  {
   "cell_type": "code",
   "execution_count": null,
   "metadata": {},
   "outputs": [],
   "source": [
    "last_interaction_analysis_obj = LastInteractionAnalysis(data_path_500)\n",
    "last_interaction_analysis_obj.perform_analysis()"
   ]
  },
  {
   "cell_type": "markdown",
   "metadata": {},
   "source": [
    "### Churn Analysis\n",
    "**Analyst Goal:** What is the overall churn rate in your dataset? Are there specific patterns or trends that stand out in the churned customers?"
   ]
  },
  {
   "cell_type": "code",
   "execution_count": null,
   "metadata": {},
   "outputs": [],
   "source": [
    "churn_analysis_obj = ChurnAnalysis(data_path_500)\n",
    "churn_analysis_obj.perform_analysis()"
   ]
  },
  {
   "cell_type": "markdown",
   "metadata": {},
   "source": [
    "### Correlation\n",
    "**Analyst Goal:** Are there any notable correlations between different features and churn? Could multicollinearity between features affect your analysis?"
   ]
  },
  {
   "cell_type": "code",
   "execution_count": null,
   "metadata": {},
   "outputs": [],
   "source": [
    "correlation_analysis_obj = CorrelationAnalysis(data_path_500)\n",
    "correlation_analysis_obj.perform_analysis()"
   ]
  }
 ],
 "metadata": {
  "kernelspec": {
   "display_name": "Python 3",
   "language": "python",
   "name": "python3"
  },
  "language_info": {
   "codemirror_mode": {
    "name": "ipython",
    "version": 3
   },
   "file_extension": ".py",
   "mimetype": "text/x-python",
   "name": "python",
   "nbconvert_exporter": "python",
   "pygments_lexer": "ipython3",
   "version": "3.12.5"
  }
 },
 "nbformat": 4,
 "nbformat_minor": 2
}
